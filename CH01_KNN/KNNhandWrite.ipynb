{
 "metadata": {
  "language_info": {
   "codemirror_mode": {
    "name": "ipython",
    "version": 3
   },
   "file_extension": ".py",
   "mimetype": "text/x-python",
   "name": "python",
   "nbconvert_exporter": "python",
   "pygments_lexer": "ipython3",
   "version": "3.8.1-final"
  },
  "orig_nbformat": 2,
  "kernelspec": {
   "name": "python3",
   "display_name": "Python 3.8.1 64-bit ('venv')",
   "metadata": {
    "interpreter": {
     "hash": "c6b87ea558ff201df6b415e9d9d4a5fd11f9c767d074073c1b7739dafe6c7339"
    }
   }
  }
 },
 "nbformat": 4,
 "nbformat_minor": 2,
 "cells": [
  {
   "cell_type": "code",
   "execution_count": 1,
   "metadata": {},
   "outputs": [],
   "source": [
    "import numpy as np\n",
    "import pandas as pd"
   ]
  },
  {
   "cell_type": "code",
   "execution_count": 2,
   "metadata": {},
   "outputs": [],
   "source": [
    "def img2vector(fileDir: str):\n",
    "    returnList = []\n",
    "    with open(fileDir, 'r') as f:\n",
    "        fLines = f.readlines()\n",
    "    for j in range(len(fLines)):\n",
    "        line = fLines[j]\n",
    "        for i in range(32):\n",
    "            returnList.append(line[i])\n",
    "    returnVector = np.asarray(returnList,dtype=float)\n",
    "    # print(returnVector)\n",
    "    return returnVector"
   ]
  },
  {
   "cell_type": "code",
   "execution_count": 4,
   "metadata": {
    "tags": []
   },
   "outputs": [],
   "source": [
    "def getDataMat():\n",
    "    dataDir = r\"data\\CH01_KNN\\trainingDigits\"\n",
    "    fileList = os.listdir(dataDir)\n",
    "    m = len(fileList)\n",
    "    hwLabels = []\n",
    "    hwDataMat = np.zeros(shape=(m, 1024))\n",
    "    for i in range(len(fileList)):\n",
    "        fname = fileList[i]\n",
    "        fileDir = dataDir + \"\\\\\" + fname\n",
    "        hwLabels.append(int(fname.split(\"_\")[0]))\n",
    "        # print(\"xh: %s  labels: %s\" % (fname.split(\"_\")[-1].split(\".\")[0], fname.split(\"_\")[0]))\n",
    "        imgVector = img2vector(fileDir)\n",
    "        hwDataMat[i] = imgVector\n",
    "    return hwDataMat, hwLabels"
   ]
  },
  {
   "cell_type": "code",
   "execution_count": 13,
   "metadata": {},
   "outputs": [
    {
     "output_type": "execute_result",
     "data": {
      "text/plain": [
       "KNeighborsClassifier(n_neighbors=3)"
      ]
     },
     "metadata": {},
     "execution_count": 13
    }
   ],
   "source": [
    "from sklearn.neighbors import KNeighborsClassifier\n",
    "hwDataMat, hwLabels = getDataMat()\n",
    "knn = KNeighborsClassifier(n_neighbors=3)\n",
    "knn.fit(X=hwDataMat, y=hwLabels)"
   ]
  },
  {
   "cell_type": "code",
   "execution_count": 14,
   "metadata": {},
   "outputs": [
    {
     "output_type": "stream",
     "name": "stdout",
     "text": [
      "共测试样例946个,预测错误12个,错误率为1.268499%\n"
     ]
    }
   ],
   "source": [
    "def testClassify():\n",
    "    dataDir = r\"data\\CH01_KNN\\testDigits\"\n",
    "    fileList = os.listdir(dataDir)\n",
    "    mTest = len(fileList)\n",
    "    errorCnt = 0.0\n",
    "    for fname in fileList:\n",
    "        fileDir = dataDir + \"\\\\\" + fname\n",
    "        testDataMat = img2vector(fileDir).reshape(1,-1)\n",
    "        preResult = knn.predict(testDataMat)\n",
    "        realResult = int(fname.split(\"_\")[0])\n",
    "        # print(\"预测结果是：%d------正确结果是：%d\"%(preResult, realResult))\n",
    "        if preResult != realResult:\n",
    "            errorCnt += 1.0\n",
    "    print('共测试样例%d个,预测错误%d个,错误率为%f%%'%(mTest, errorCnt, errorCnt/mTest*100))\n",
    "testClassify()"
   ]
  }
 ]
}