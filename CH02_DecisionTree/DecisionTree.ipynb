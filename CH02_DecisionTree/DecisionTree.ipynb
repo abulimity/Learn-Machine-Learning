{
 "metadata": {
  "language_info": {
   "codemirror_mode": {
    "name": "ipython",
    "version": 3
   },
   "file_extension": ".py",
   "mimetype": "text/x-python",
   "name": "python",
   "nbconvert_exporter": "python",
   "pygments_lexer": "ipython3",
   "version": "3.8.0-candidate"
  },
  "orig_nbformat": 2,
  "kernelspec": {
   "name": "python3",
   "display_name": "Python 3.8.0 64-bit ('venv')",
   "metadata": {
    "interpreter": {
     "hash": "c6b87ea558ff201df6b415e9d9d4a5fd11f9c767d074073c1b7739dafe6c7339"
    }
   }
  }
 },
 "nbformat": 4,
 "nbformat_minor": 2,
 "cells": [
  {
   "cell_type": "code",
   "execution_count": 1,
   "metadata": {},
   "outputs": [],
   "source": [
    "import sys\n",
    "sys.path.append(r\"D:\\project\\Learn-Machine-Learning\\CH02_DecisionTree\\DecisionTree.py\")"
   ]
  },
  {
   "cell_type": "code",
   "execution_count": 2,
   "metadata": {},
   "outputs": [],
   "source": [
    "from DecisionTree import createDataSet, createTree"
   ]
  },
  {
   "cell_type": "code",
   "execution_count": 3,
   "metadata": {},
   "outputs": [
    {
     "output_type": "stream",
     "name": "stdout",
     "text": [
      "Feature age ,infoGain 0.083007\nFeature work ,infoGain 0.323650\nFeature house ,infoGain 0.419973\nFeature credit ,infoGain 0.362990\nFeature age ,infoGain 0.251629\nFeature work ,infoGain 0.918296\nFeature credit ,infoGain 0.473851\n{'house': {0: {'work': {0: 0, 1: 1}}, 1: 1}}\n"
     ]
    }
   ],
   "source": [
    "dataSet, labelSet = createDataSet()\n",
    "dataSet[\"label\"] = labelSet\n",
    "sigma = 0.0\n",
    "Tree = createTree(dataSet, sigma)\n",
    "print(Tree)"
   ]
  },
  {
   "cell_type": "code",
   "execution_count": 14,
   "metadata": {},
   "outputs": [
    {
     "output_type": "stream",
     "name": "stdout",
     "text": [
      "['young\\tmyope\\tno\\treduced\\tno lenses\\n', 'young\\tmyope\\tno\\tnormal\\tsoft\\n', 'young\\tmyope\\tyes\\treduced\\tno lenses\\n', 'young\\tmyope\\tyes\\tnormal\\thard\\n', 'young\\thyper\\tno\\treduced\\tno lenses\\n', 'young\\thyper\\tno\\tnormal\\tsoft\\n', 'young\\thyper\\tyes\\treduced\\tno lenses\\n', 'young\\thyper\\tyes\\tnormal\\thard\\n', 'pre\\tmyope\\tno\\treduced\\tno lenses\\n', 'pre\\tmyope\\tno\\tnormal\\tsoft\\n', 'pre\\tmyope\\tyes\\treduced\\tno lenses\\n', 'pre\\tmyope\\tyes\\tnormal\\thard\\n', 'pre\\thyper\\tno\\treduced\\tno lenses\\n', 'pre\\thyper\\tno\\tnormal\\tsoft\\n', 'pre\\thyper\\tyes\\treduced\\tno lenses\\n', 'pre\\thyper\\tyes\\tnormal\\tno lenses\\n', 'presbyopic\\tmyope\\tno\\treduced\\tno lenses\\n', 'presbyopic\\tmyope\\tno\\tnormal\\tno lenses\\n', 'presbyopic\\tmyope\\tyes\\treduced\\tno lenses\\n', 'presbyopic\\tmyope\\tyes\\tnormal\\thard\\n', 'presbyopic\\thyper\\tno\\treduced\\tno lenses\\n', 'presbyopic\\thyper\\tno\\tnormal\\tsoft\\n', 'presbyopic\\thyper\\tyes\\treduced\\tno lenses\\n', 'presbyopic\\thyper\\tyes\\tnormal\\tno lenses\\n']\n"
     ]
    }
   ],
   "source": [
    "with open(r'..\\data\\CH02_DecisionTree\\lenses.txt') as f:\n",
    "    print(f.readlines())"
   ]
  }
 ]
}