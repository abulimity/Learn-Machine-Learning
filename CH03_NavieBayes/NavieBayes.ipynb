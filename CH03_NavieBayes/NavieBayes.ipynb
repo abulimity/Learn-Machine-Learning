{
 "metadata": {
  "language_info": {
   "codemirror_mode": {
    "name": "ipython",
    "version": 3
   },
   "file_extension": ".py",
   "mimetype": "text/x-python",
   "name": "python",
   "nbconvert_exporter": "python",
   "pygments_lexer": "ipython3",
   "version": "3.8.1-final"
  },
  "orig_nbformat": 2,
  "kernelspec": {
   "name": "python3",
   "display_name": "Python 3.8.1 64-bit ('venv')",
   "metadata": {
    "interpreter": {
     "hash": "c6b87ea558ff201df6b415e9d9d4a5fd11f9c767d074073c1b7739dafe6c7339"
    }
   }
  }
 },
 "nbformat": 4,
 "nbformat_minor": 2,
 "cells": [
  {
   "cell_type": "code",
   "execution_count": 1,
   "metadata": {},
   "outputs": [],
   "source": [
    "import pandas as pd\n",
    "def createDateSet():\n",
    "    dataMat = pd.DataFrame(data=[[1,1,1,1,1,2,2,2,2,2,3,3,3,3,3],\n",
    "                                 ['S','M','M','S','S','S','M','M','L','L','L','M','M','L','L'],\n",
    "                                 [-1,-1,1,1,-1,-1,-1,1,1,1,1,1,1,1,-1]],index=['X1','X2','Y'])\n",
    "    return dataMat.T"
   ]
  },
  {
   "cell_type": "code",
   "execution_count": 2,
   "metadata": {},
   "outputs": [
    {
     "output_type": "execute_result",
     "data": {
      "text/plain": [
       "   X1 X2   Y\n",
       "0   1  S  -1\n",
       "1   1  M  -1\n",
       "2   1  M   1\n",
       "3   1  S   1\n",
       "4   1  S  -1\n",
       "5   2  S  -1\n",
       "6   2  M  -1\n",
       "7   2  M   1\n",
       "8   2  L   1\n",
       "9   2  L   1\n",
       "10  3  L   1\n",
       "11  3  M   1\n",
       "12  3  M   1\n",
       "13  3  L   1\n",
       "14  3  L  -1"
      ],
      "text/html": "<div>\n<style scoped>\n    .dataframe tbody tr th:only-of-type {\n        vertical-align: middle;\n    }\n\n    .dataframe tbody tr th {\n        vertical-align: top;\n    }\n\n    .dataframe thead th {\n        text-align: right;\n    }\n</style>\n<table border=\"1\" class=\"dataframe\">\n  <thead>\n    <tr style=\"text-align: right;\">\n      <th></th>\n      <th>X1</th>\n      <th>X2</th>\n      <th>Y</th>\n    </tr>\n  </thead>\n  <tbody>\n    <tr>\n      <th>0</th>\n      <td>1</td>\n      <td>S</td>\n      <td>-1</td>\n    </tr>\n    <tr>\n      <th>1</th>\n      <td>1</td>\n      <td>M</td>\n      <td>-1</td>\n    </tr>\n    <tr>\n      <th>2</th>\n      <td>1</td>\n      <td>M</td>\n      <td>1</td>\n    </tr>\n    <tr>\n      <th>3</th>\n      <td>1</td>\n      <td>S</td>\n      <td>1</td>\n    </tr>\n    <tr>\n      <th>4</th>\n      <td>1</td>\n      <td>S</td>\n      <td>-1</td>\n    </tr>\n    <tr>\n      <th>5</th>\n      <td>2</td>\n      <td>S</td>\n      <td>-1</td>\n    </tr>\n    <tr>\n      <th>6</th>\n      <td>2</td>\n      <td>M</td>\n      <td>-1</td>\n    </tr>\n    <tr>\n      <th>7</th>\n      <td>2</td>\n      <td>M</td>\n      <td>1</td>\n    </tr>\n    <tr>\n      <th>8</th>\n      <td>2</td>\n      <td>L</td>\n      <td>1</td>\n    </tr>\n    <tr>\n      <th>9</th>\n      <td>2</td>\n      <td>L</td>\n      <td>1</td>\n    </tr>\n    <tr>\n      <th>10</th>\n      <td>3</td>\n      <td>L</td>\n      <td>1</td>\n    </tr>\n    <tr>\n      <th>11</th>\n      <td>3</td>\n      <td>M</td>\n      <td>1</td>\n    </tr>\n    <tr>\n      <th>12</th>\n      <td>3</td>\n      <td>M</td>\n      <td>1</td>\n    </tr>\n    <tr>\n      <th>13</th>\n      <td>3</td>\n      <td>L</td>\n      <td>1</td>\n    </tr>\n    <tr>\n      <th>14</th>\n      <td>3</td>\n      <td>L</td>\n      <td>-1</td>\n    </tr>\n  </tbody>\n</table>\n</div>"
     },
     "metadata": {},
     "execution_count": 2
    }
   ],
   "source": [
    "dataMat = createDateSet()\n",
    "dataMat"
   ]
  },
  {
   "cell_type": "code",
   "execution_count": 14,
   "metadata": {},
   "outputs": [
    {
     "output_type": "execute_result",
     "data": {
      "text/plain": [
       "{1: 0.6, -1: 0.4}"
      ]
     },
     "metadata": {},
     "execution_count": 14
    }
   ],
   "source": [
    "py = {}\n",
    "YvalueCnt = dataMat.Y.value_counts()\n",
    "rowNum = dataMat.shape[0]\n",
    "for key, value in YvalueCnt.items():\n",
    "    py[key] = value/rowNum\n",
    "py"
   ]
  },
  {
   "cell_type": "code",
   "execution_count": 45,
   "metadata": {},
   "outputs": [
    {
     "output_type": "stream",
     "name": "stdout",
     "text": [
      "Y: 1\nX: X1\nX: X2\nY: -1\nX: X1\nX: X2\n"
     ]
    },
    {
     "output_type": "execute_result",
     "data": {
      "text/plain": [
       "{'X1|3|1': 0.4444444444444444,\n",
       " 'X1|2|1': 0.3333333333333333,\n",
       " 'X1|1|1': 0.2222222222222222,\n",
       " 'X2|M|1': 0.4444444444444444,\n",
       " 'X2|L|1': 0.4444444444444444,\n",
       " 'X2|S|1': 0.1111111111111111,\n",
       " 'X1|1|-1': 0.5,\n",
       " 'X1|2|-1': 0.3333333333333333,\n",
       " 'X1|3|-1': 0.16666666666666666,\n",
       " 'X2|S|-1': 0.5,\n",
       " 'X2|M|-1': 0.3333333333333333,\n",
       " 'X2|L|-1': 0.16666666666666666}"
      ]
     },
     "metadata": {},
     "execution_count": 45
    }
   ],
   "source": [
    "XdataMat = dataMat.drop('Y',axis=1)\n",
    "pxy = {}\n",
    "for i in YvalueCnt.index:\n",
    "    print('Y: %s' %i)\n",
    "    for j in XdataMat.columns:\n",
    "        print('X: %s' %j)\n",
    "        XvalueCnt = dataMat[dataMat.Y==i][j].value_counts()\n",
    "        for x in XvalueCnt.index:\n",
    "            pxy[j+'|'+str(x)+'|'+str(i)] = XvalueCnt[x] /YvalueCnt[i]\n",
    "        # print(XvalueCnt)\n",
    "        # print('%s / %s'%(XvalueCnt[i], YvalueCnt[j]))\n",
    "        \n",
    "pxy"
   ]
  },
  {
   "cell_type": "code",
   "execution_count": 53,
   "metadata": {},
   "outputs": [
    {
     "output_type": "stream",
     "name": "stdout",
     "text": [
      "1 0.6\n1 = 0.6 * 0.3333333333333333\n1 = 0.6 * 0.1111111111111111\n-1 0.4\n-1 = 0.4 * 0.3333333333333333\n-1 = 0.4 * 0.5\n{'1': 0.02222222222222222, '-1': 0.06666666666666667}\n"
     ]
    },
    {
     "output_type": "execute_result",
     "data": {
      "text/plain": [
       "'-1'"
      ]
     },
     "metadata": {},
     "execution_count": 53
    }
   ],
   "source": [
    "# x = (2, S)T\n",
    "x = pd.Series([2,'S'],name='x',index=['X1','X2'])\n",
    "pyx = {}\n",
    "for pyi, v in py.items():\n",
    "    print(pyi,v)\n",
    "    pyx[str(pyi)] = v\n",
    "    for j in x.index:\n",
    "        pxyN = j+'|'+ str(x[j]) + '|' + str(pyi) \n",
    "        print('%s = %s * %s'% (pyi, v, pxy[pxyN]))\n",
    "        pyx[str(pyi)] = pxy[pxyN] * pyx.get(str(pyi),1)\n",
    "print(pyx)\n",
    "sorted(pyx.items(), key= lambda x: x[-1],reverse=True)[0][0]"
   ]
  }
 ]
}