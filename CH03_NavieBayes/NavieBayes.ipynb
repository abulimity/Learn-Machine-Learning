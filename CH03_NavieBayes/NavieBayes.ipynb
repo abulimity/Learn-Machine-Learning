{
 "metadata": {
  "language_info": {
   "codemirror_mode": {
    "name": "ipython",
    "version": 3
   },
   "file_extension": ".py",
   "mimetype": "text/x-python",
   "name": "python",
   "nbconvert_exporter": "python",
   "pygments_lexer": "ipython3",
   "version": "3.8.1-final"
  },
  "orig_nbformat": 2,
  "kernelspec": {
   "name": "python3",
   "display_name": "Python 3.8.1 64-bit ('venv')",
   "metadata": {
    "interpreter": {
     "hash": "c6b87ea558ff201df6b415e9d9d4a5fd11f9c767d074073c1b7739dafe6c7339"
    }
   }
  }
 },
 "nbformat": 4,
 "nbformat_minor": 2,
 "cells": [
  {
   "cell_type": "code",
   "execution_count": 4,
   "metadata": {},
   "outputs": [],
   "source": [
    "import pandas as pd\n",
    "def createDateSet():\n",
    "    dataMat = pd.DataFrame(data=[[1,1,1,1,1,2,2,2,2,2,3,3,3,3,3],\n",
    "                                 ['S','M','M','S','S','S','M','M','L','L','L','M','M','L','L'],\n",
    "                                 [-1,-1,1,1,-1,-1,-1,1,1,1,1,1,1,1,-1]],index=['X1','X2','Y'])\n",
    "    return dataMat"
   ]
  },
  {
   "cell_type": "code",
   "execution_count": 5,
   "metadata": {},
   "outputs": [
    {
     "output_type": "execute_result",
     "data": {
      "text/plain": [
       "    0   1  2  3   4   5   6  7  8  9  10 11 12 13  14\n",
       "X1   1   1  1  1   1   2   2  2  2  2  3  3  3  3   3\n",
       "X2   S   M  M  S   S   S   M  M  L  L  L  M  M  L   L\n",
       "Y   -1  -1  1  1  -1  -1  -1  1  1  1  1  1  1  1  -1"
      ],
      "text/html": "<div>\n<style scoped>\n    .dataframe tbody tr th:only-of-type {\n        vertical-align: middle;\n    }\n\n    .dataframe tbody tr th {\n        vertical-align: top;\n    }\n\n    .dataframe thead th {\n        text-align: right;\n    }\n</style>\n<table border=\"1\" class=\"dataframe\">\n  <thead>\n    <tr style=\"text-align: right;\">\n      <th></th>\n      <th>0</th>\n      <th>1</th>\n      <th>2</th>\n      <th>3</th>\n      <th>4</th>\n      <th>5</th>\n      <th>6</th>\n      <th>7</th>\n      <th>8</th>\n      <th>9</th>\n      <th>10</th>\n      <th>11</th>\n      <th>12</th>\n      <th>13</th>\n      <th>14</th>\n    </tr>\n  </thead>\n  <tbody>\n    <tr>\n      <th>X1</th>\n      <td>1</td>\n      <td>1</td>\n      <td>1</td>\n      <td>1</td>\n      <td>1</td>\n      <td>2</td>\n      <td>2</td>\n      <td>2</td>\n      <td>2</td>\n      <td>2</td>\n      <td>3</td>\n      <td>3</td>\n      <td>3</td>\n      <td>3</td>\n      <td>3</td>\n    </tr>\n    <tr>\n      <th>X2</th>\n      <td>S</td>\n      <td>M</td>\n      <td>M</td>\n      <td>S</td>\n      <td>S</td>\n      <td>S</td>\n      <td>M</td>\n      <td>M</td>\n      <td>L</td>\n      <td>L</td>\n      <td>L</td>\n      <td>M</td>\n      <td>M</td>\n      <td>L</td>\n      <td>L</td>\n    </tr>\n    <tr>\n      <th>Y</th>\n      <td>-1</td>\n      <td>-1</td>\n      <td>1</td>\n      <td>1</td>\n      <td>-1</td>\n      <td>-1</td>\n      <td>-1</td>\n      <td>1</td>\n      <td>1</td>\n      <td>1</td>\n      <td>1</td>\n      <td>1</td>\n      <td>1</td>\n      <td>1</td>\n      <td>-1</td>\n    </tr>\n  </tbody>\n</table>\n</div>"
     },
     "metadata": {},
     "execution_count": 5
    }
   ],
   "source": [
    "dataMat = createDateSet()\n",
    "dataMat"
   ]
  },
  {
   "cell_type": "code",
   "execution_count": null,
   "metadata": {},
   "outputs": [],
   "source": [
    "P"
   ]
  }
 ]
}